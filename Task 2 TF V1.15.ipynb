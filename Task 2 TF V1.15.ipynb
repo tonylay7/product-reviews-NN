{
 "cells": [
  {
   "cell_type": "code",
   "execution_count": 1,
   "id": "b9caff86",
   "metadata": {},
   "outputs": [
    {
     "name": "stderr",
     "output_type": "stream",
     "text": [
      "[nltk_data] Downloading package punkt to /home/tony/nltk_data...\n",
      "[nltk_data]   Package punkt is already up-to-date!\n",
      "[nltk_data] Downloading package stopwords to /home/tony/nltk_data...\n",
      "[nltk_data]   Package stopwords is already up-to-date!\n"
     ]
    },
    {
     "data": {
      "text/plain": [
       "True"
      ]
     },
     "execution_count": 1,
     "metadata": {},
     "output_type": "execute_result"
    }
   ],
   "source": [
    "import nltk\n",
    "from nltk.corpus import PlaintextCorpusReader\n",
    "from nltk.corpus import stopwords\n",
    "nltk.download('punkt')\n",
    "nltk.download('stopwords')"
   ]
  },
  {
   "cell_type": "markdown",
   "id": "a8da611b",
   "metadata": {},
   "source": [
    "The product review corpus contains reviews scored as positive and negative opinions. Pre-process\n",
    "your text, prepare the review examples for training and evaluation. Implement, train and evaluate a\n",
    "neural network that can classify an input review to either a positive or a negative class. You are\n",
    "free to choose any neural network/deep learning technique taught in the Chapter “Deep Learning\n",
    "for NLP”, e.g., multi-layer perceptron, LSTM, bi-directional LSTM, etc. You should design\n",
    "appropriate experiments to evaluate your classifier’s classification accuracy based on 5-fold cross\n",
    "validation (CV)."
   ]
  },
  {
   "cell_type": "code",
   "execution_count": 2,
   "id": "799ff09c",
   "metadata": {},
   "outputs": [],
   "source": [
    "# Set up useful dictionary mappings\n",
    "fileNames = {} # Dictionary to fetch file name based on docID (docID : fileName)\n",
    "docTerms = {} # Dictionary to fetch terms of a doc based on fileName (fileName : [terms_list]) where terms_list includes duplicates\n",
    "review_data = [] # Stores review samples\n",
    "\n",
    "# Set up PlaintextCorpusReader object to read all txt files in product_reviews folder\n",
    "data = None\n",
    "path = \"product_reviews\"\n",
    "data = PlaintextCorpusReader(path, '.*.txt')\n",
    "\n",
    "# Initialise dictionaries\n",
    "documents = data.fileids()\n",
    "documents.remove(\"README.txt\")\n",
    "for i in range(0,len(documents)):\n",
    "  docID = i+1\n",
    "  file_name = documents[i]\n",
    "  fileNames.update({docID : file_name})\n"
   ]
  },
  {
   "cell_type": "markdown",
   "id": "dd79da2b",
   "metadata": {},
   "source": [
    "Pre-processing the text"
   ]
  },
  {
   "cell_type": "code",
   "execution_count": 3,
   "id": "969cd959",
   "metadata": {},
   "outputs": [],
   "source": [
    "from nltk.stem import snowball\n",
    "import regex as re\n",
    "import string\n",
    "\n",
    "def filter_words(words: list) -> list:\n",
    "    \"\"\"\n",
    "    Returns a list of words that are:\n",
    "    - lowercase\n",
    "    - not stopwords\n",
    "    - length > 1\n",
    "    - have no punctation in each word\n",
    "    - stemmed\n",
    "    \"\"\"\n",
    "    final_words = words\n",
    "    # Use only lowercase characters\n",
    "    final_words = [word.lower() for word in words]\n",
    "    \n",
    "    # Remove stopwords\n",
    "    stop_words = stopwords.words('english')\n",
    "    final_words = [word for word in final_words if word not in stop_words]\n",
    "    \n",
    "    # Remove punctation in between words\n",
    "    final_words = [word.translate(str.maketrans('', '', string.punctuation)) for word in final_words]\n",
    "    \n",
    "    # Remove anything that isn't alphabetic\n",
    "    final_words = [word for word in final_words if word.isalpha() == True]\n",
    "    \n",
    "    # Remove strings with length 1\n",
    "    final_words = [word for word in final_words if len(word) > 1]\n",
    "\n",
    "    \n",
    "#     # Stemming using Snowball Stemmer (Porter2)\n",
    "#     stemmer = snowball.SnowballStemmer('english')\n",
    "#     final_words = [stemmer.stem(word) for word in final_words]\n",
    "    return final_words\n",
    "\n",
    "def filter_review(review: str) -> str:\n",
    "    \"\"\"\n",
    "    Returns a string review that:\n",
    "    - does not include the rating in the review\n",
    "    - is lexically processed\n",
    "    \"\"\"\n",
    "    # The comment of a review appears after the ## tag in each document\n",
    "    try:\n",
    "        splitting_index = review.index('##')\n",
    "    except: # Some reviews aren't tagged with ## before the the review's comment so look directly after the rating tag\n",
    "        splitting_index = review.rfind(']')\n",
    "    comment = review[splitting_index+2:]\n",
    "    return \" \".join(filter_words(comment.split()))\n",
    "    \n",
    "    \n",
    "def preprocess_document(document: str):\n",
    "    raw_text = data.raw(document)\n",
    "    lines = raw_text.splitlines()\n",
    "\n",
    "    for line in lines:\n",
    "        res = re.search('\\[(?:\\+|\\-)\\d\\]',line) # Search for any tags in the form [+n] or [-n] in the review\n",
    "        if res is not None: \n",
    "            review = filter_review(line)\n",
    "            # Generate tagged data based on the rating tag (class 1 = positive, class 0 = negative)\n",
    "            if '+' in res.group():\n",
    "                review_data.append([review,1])\n",
    "            else:\n",
    "                review_data.append([review,0])\n",
    "\n",
    "# Pre-process each document\n",
    "for doc in documents:\n",
    "    preprocess_document(doc)\n",
    "    "
   ]
  },
  {
   "cell_type": "markdown",
   "id": "4ab9c6c5",
   "metadata": {},
   "source": [
    "Preparing the review examples for training and evaluation"
   ]
  },
  {
   "cell_type": "code",
   "execution_count": 4,
   "id": "41f051bb",
   "metadata": {
    "scrolled": true
   },
   "outputs": [
    {
     "name": "stdout",
     "output_type": "stream",
     "text": [
      "Sample number: 2090\n",
      "Positive: 1344\n",
      "Negative: 746\n"
     ]
    }
   ],
   "source": [
    "from sklearn.feature_extraction.text import CountVectorizer\n",
    "from sklearn.model_selection import train_test_split\n",
    "from sklearn.utils import resample\n",
    "import numpy as np\n",
    "\n",
    "good_reviews = [review for review in review_data if review[1]==1]\n",
    "bad_reviews = [review for review in review_data if review[1]==0]\n",
    "\n",
    "reviews = [review for review,_ in review_data]\n",
    "labels = [label for _,label in review_data]\n",
    "\n",
    "print(\"Sample number:\",len(reviews))\n",
    "print(\"Positive:\",len(good_reviews))\n",
    "print(\"Negative:\",len(bad_reviews))\n",
    "\n"
   ]
  },
  {
   "cell_type": "code",
   "execution_count": 18,
   "id": "c8c895f4",
   "metadata": {},
   "outputs": [],
   "source": [
    "import scipy\n",
    "import tensorflow as tf\n",
    "from keras.preprocessing.text import Tokenizer\n",
    "from keras.models import Sequential\n",
    "from keras import layers\n",
    "from keras import losses\n",
    "from keras.preprocessing.sequence import pad_sequences\n",
    "from collections import Counter\n",
    "\n",
    "def count_words(data):\n",
    "    total_counter = dict()\n",
    "    for sent in data:\n",
    "        words = sent.split()\n",
    "        for word in words:\n",
    "            if word in total_counter:\n",
    "                total_counter[word] += 1\n",
    "            else:\n",
    "                total_counter[word] = 1       \n",
    "    return len(total_counter)\n",
    "        \n",
    "\n",
    "def model_and_evaluate(training_data,test_data,EPOCHS=10,BATCH_SIZE=30,VOCAB_SIZE=1000,VERBOSE=False):\n",
    "    \n",
    "    model = None\n",
    "    train_reviews = [review for review,_ in training_data]\n",
    "    train_labels = np.array([label for _,label in training_data])\n",
    "    test_reviews = [review for review,_ in test_data]\n",
    "    test_labels = np.array([label for _,label in test_data])\n",
    "        \n",
    "    num_words = count_words(train_reviews)\n",
    "    max_length = 20\n",
    "    tokenizer = Tokenizer(num_words=num_words)\n",
    "    tokenizer.fit_on_texts(train_reviews)\n",
    "\n",
    "    train_seq = tokenizer.texts_to_sequences(train_reviews)\n",
    "    train_padded = pad_sequences(train_seq,maxlen=max_length,padding=\"post\",truncating=\"post\")\n",
    "    test_seq = tokenizer.texts_to_sequences(test_reviews)\n",
    "    test_padded = pad_sequences(test_seq,maxlen=max_length,padding=\"post\",truncating=\"post\")\n",
    "\n",
    "    model = Sequential([\n",
    "        layers.Embedding(num_words,32,input_length=max_length),\n",
    "        layers.Bidirectional(layers.LSTM(32, recurrent_dropout=0.2)),\n",
    "        layers.Dense(1,activation=\"sigmoid\")\n",
    "    ])\n",
    "#         model = Sequential()\n",
    "#         model.add(layers.Embedding(num_words, 32, input_length=max_length))\n",
    "#         model.add(layers.Conv1D(filters=32, kernel_size=3, padding='same', activation='relu'))\n",
    "#         model.add(layers.MaxPooling1D(pool_size=2))\n",
    "#         model.add(layers.Bidirectional(layers.LSTM(100, dropout=0.2, recurrent_dropout=0.2))),\n",
    "#         model.add(layers.Dense(1, activation='sigmoid'))\n",
    "\n",
    "    model.compile(loss=\"binary_crossentropy\",optimizer='adam',metrics=[\"accuracy\"])\n",
    "\n",
    "    history = model.fit(\n",
    "        train_padded,\n",
    "        train_labels,\n",
    "        epochs=EPOCHS,\n",
    "        batch_size=BATCH_SIZE,\n",
    "        verbose=VERBOSE)\n",
    "\n",
    "    loss, accuracy = model.evaluate(test_padded,test_labels)\n",
    "    return accuracy"
   ]
  },
  {
   "cell_type": "code",
   "execution_count": 19,
   "id": "c8b0cf22",
   "metadata": {
    "scrolled": true
   },
   "outputs": [
    {
     "name": "stdout",
     "output_type": "stream",
     "text": [
      "Epoch 1/8\n",
      "1672/1672 [==============================] - 8s 5ms/step - loss: 0.6585 - acc: 0.6423\n",
      "Epoch 2/8\n",
      "1672/1672 [==============================] - 0s 270us/step - loss: 0.6378 - acc: 0.6423\n",
      "Epoch 3/8\n",
      "1672/1672 [==============================] - 0s 273us/step - loss: 0.5815 - acc: 0.6573\n",
      "Epoch 4/8\n",
      "1672/1672 [==============================] - 0s 283us/step - loss: 0.4154 - acc: 0.8068\n",
      "Epoch 5/8\n",
      "1672/1672 [==============================] - 0s 260us/step - loss: 0.2130 - acc: 0.9270\n",
      "Epoch 6/8\n",
      "1672/1672 [==============================] - 0s 270us/step - loss: 0.1177 - acc: 0.9629\n",
      "Epoch 7/8\n",
      "1672/1672 [==============================] - 0s 287us/step - loss: 0.0755 - acc: 0.9791\n",
      "Epoch 8/8\n",
      "1672/1672 [==============================] - 0s 273us/step - loss: 0.0485 - acc: 0.9862\n",
      "418/418 [==============================] - 3s 7ms/step\n",
      "0.7320574162679426\n"
     ]
    }
   ],
   "source": [
    "import random\n",
    "random.shuffle(review_data)\n",
    "\n",
    "index = int(len(review_data)*0.8)\n",
    "\n",
    "training_data = review_data[:index]\n",
    "test_data = review_data[index:]\n",
    "\n",
    "print(model_and_evaluate(training_data,test_data,VERBOSE=True,BATCH_SIZE=64,EPOCHS=8))\n",
    "\n",
    "\n"
   ]
  },
  {
   "cell_type": "markdown",
   "id": "93e5b7e3",
   "metadata": {},
   "source": [
    "Designing and implementing experiments to evaluate classification accuracy based on 5-fold cross validation."
   ]
  },
  {
   "cell_type": "code",
   "execution_count": 17,
   "id": "440f804c",
   "metadata": {},
   "outputs": [
    {
     "name": "stdout",
     "output_type": "stream",
     "text": [
      "418/418 [==============================] - 2s 6ms/step\n",
      "418/418 [==============================] - 3s 6ms/step\n",
      "418/418 [==============================] - 3s 7ms/step\n",
      "418/418 [==============================] - 3s 7ms/step\n",
      "418/418 [==============================] - 3s 7ms/step\n",
      "0.7320574162679425\n"
     ]
    }
   ],
   "source": [
    "import random\n",
    "random.shuffle(review_data)\n",
    "\n",
    "k = 5\n",
    "\n",
    "groups = np.array_split(review_data, k) # Split dataset into 5 groups\n",
    "\n",
    "reviews = [review for review,_ in review_data]\n",
    "labels = [label for _,label in review_data]\n",
    "\n",
    "# 5-fold cross validation\n",
    "accuracies = []\n",
    "for i in range (0,k):\n",
    "    test_data = groups[i]\n",
    "    other_groups = list(range(0,k))\n",
    "    other_groups.remove(i)\n",
    "    training_data = [review for j in other_groups for review in groups[j]]\n",
    "    accuracy = model_and_evaluate(training_data,test_data,BATCH_SIZE=64,EPOCHS=8)\n",
    "    accuracies.append(accuracy)\n",
    "    \n",
    "print(np.mean(accuracies))"
   ]
  },
  {
   "cell_type": "code",
   "execution_count": null,
   "id": "fca50c7e",
   "metadata": {},
   "outputs": [],
   "source": []
  },
  {
   "cell_type": "code",
   "execution_count": null,
   "id": "d80a29c6",
   "metadata": {},
   "outputs": [],
   "source": []
  }
 ],
 "metadata": {
  "kernelspec": {
   "display_name": "CW2",
   "language": "python",
   "name": "cw2"
  },
  "language_info": {
   "codemirror_mode": {
    "name": "ipython",
    "version": 3
   },
   "file_extension": ".py",
   "mimetype": "text/x-python",
   "name": "python",
   "nbconvert_exporter": "python",
   "pygments_lexer": "ipython3",
   "version": "3.7.15"
  }
 },
 "nbformat": 4,
 "nbformat_minor": 5
}
