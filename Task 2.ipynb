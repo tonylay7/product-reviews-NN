{
 "cells": [
  {
   "cell_type": "code",
   "execution_count": 1,
   "id": "b9caff86",
   "metadata": {},
   "outputs": [
    {
     "name": "stderr",
     "output_type": "stream",
     "text": [
      "[nltk_data] Downloading package punkt to /home/tony/nltk_data...\n",
      "[nltk_data]   Package punkt is already up-to-date!\n",
      "[nltk_data] Downloading package stopwords to /home/tony/nltk_data...\n",
      "[nltk_data]   Package stopwords is already up-to-date!\n"
     ]
    },
    {
     "data": {
      "text/plain": [
       "True"
      ]
     },
     "execution_count": 1,
     "metadata": {},
     "output_type": "execute_result"
    }
   ],
   "source": [
    "import nltk\n",
    "from nltk.corpus import PlaintextCorpusReader\n",
    "from nltk.corpus import stopwords\n",
    "nltk.download('punkt')\n",
    "nltk.download('stopwords')"
   ]
  },
  {
   "cell_type": "markdown",
   "id": "a8da611b",
   "metadata": {},
   "source": [
    "The product review corpus contains reviews scored as positive and negative opinions. Pre-process\n",
    "your text, prepare the review examples for training and evaluation. Implement, train and evaluate a\n",
    "neural network that can classify an input review to either a positive or a negative class. You are\n",
    "free to choose any neural network/deep learning technique taught in the Chapter “Deep Learning\n",
    "for NLP”, e.g., multi-layer perceptron, LSTM, bi-directional LSTM, etc. You should design\n",
    "appropriate experiments to evaluate your classifier’s classification accuracy based on 5-fold cross\n",
    "validation (CV)."
   ]
  },
  {
   "cell_type": "code",
   "execution_count": 2,
   "id": "799ff09c",
   "metadata": {},
   "outputs": [],
   "source": [
    "# Set up useful dictionary mappings\n",
    "fileNames = {} # Dictionary to fetch file name based on docID (docID : fileName)\n",
    "docTerms = {} # Dictionary to fetch terms of a doc based on fileName (fileName : [terms_list]) where terms_list includes duplicates\n",
    "termFreq = {} # Dictionary to fetch TF of a term\n",
    "review_data = [] # Stores review samples\n",
    "\n",
    "# Set up PlaintextCorpusReader object to read all txt files in product_reviews folder\n",
    "data = None\n",
    "path = \"product_reviews\"\n",
    "data = PlaintextCorpusReader(path, '.*.txt')\n",
    "\n",
    "# Initialise dictionaries\n",
    "documents = data.fileids()\n",
    "documents.remove(\"README.txt\")\n",
    "for i in range(0,len(documents)):\n",
    "  docID = i+1\n",
    "  file_name = documents[i]\n",
    "  fileNames.update({docID : file_name})\n"
   ]
  },
  {
   "cell_type": "markdown",
   "id": "dd79da2b",
   "metadata": {},
   "source": [
    "Pre-processing the text"
   ]
  },
  {
   "cell_type": "code",
   "execution_count": 3,
   "id": "969cd959",
   "metadata": {},
   "outputs": [],
   "source": [
    "from nltk.stem import snowball\n",
    "import regex as re\n",
    "import string\n",
    "\n",
    "def filter_words(words: list) -> list:\n",
    "    \"\"\"\n",
    "    Returns a list of words that are:\n",
    "    - lowercase\n",
    "    - not stopwords\n",
    "    - length > 1\n",
    "    - have no punctation in each word\n",
    "    - stemmed\n",
    "    \"\"\"\n",
    "    # Use only lowercase characters\n",
    "    final_words = [word.lower() for word in words]\n",
    "    \n",
    "    # Remove stopwords\n",
    "    stop_words = stopwords.words('english')\n",
    "    final_words = [word for word in final_words if word not in stop_words]\n",
    "    \n",
    "    # Remove strings with length 1\n",
    "    final_words = [word for word in final_words if len(word) > 1]\n",
    "    \n",
    "    # Remove punctation in between words\n",
    "    final_words = [word.translate(str.maketrans('', '', string.punctuation)) for word in final_words]\n",
    "    \n",
    "#     # Stemming using Snowball Stemmer (Porter2)\n",
    "#     stemmer = snowball.SnowballStemmer('english')\n",
    "#     final_words = [stemmer.stem(word) for word in final_words]\n",
    "    return final_words\n",
    "\n",
    "def filter_review(review: str) -> str:\n",
    "    \"\"\"\n",
    "    Returns a string review that:\n",
    "    - does not include the rating in the review\n",
    "    - is lexically processed\n",
    "    \"\"\"\n",
    "    # The comment of a review appears after the ## tag in each document\n",
    "    try:\n",
    "        splitting_index = review.index('##')\n",
    "    except: # Some reviews aren't tagged with ## before the the review's comment so look directly after the rating tag\n",
    "        splitting_index = review.rfind(']')\n",
    "    comment = review[splitting_index+2:]\n",
    "    return \" \".join(filter_words(comment.split()))\n",
    "    \n",
    "    \n",
    "def preprocess_document(document: str):\n",
    "    raw_text = data.raw(document)\n",
    "    lines = raw_text.splitlines()\n",
    "\n",
    "    for line in lines:\n",
    "        res = re.search('\\[(?:\\+|\\-)\\d\\]',line) # Search for any tags in the form [+n] or [-n] in the review\n",
    "        if res is not None: \n",
    "            review = filter_review(line)\n",
    "            # Generate tagged data based on the rating tag (class 1 = positive, class 0 = negative)\n",
    "            if '+' in res.group():\n",
    "                review_data.append([review,1])\n",
    "            else:\n",
    "                review_data.append([review,0])\n",
    "\n",
    "# Pre-process each doucment\n",
    "for doc in documents:\n",
    "    preprocess_document(doc)\n"
   ]
  },
  {
   "cell_type": "markdown",
   "id": "4ab9c6c5",
   "metadata": {},
   "source": [
    "Preparing the review examples for training and evaluation"
   ]
  },
  {
   "cell_type": "code",
   "execution_count": 4,
   "id": "41f051bb",
   "metadata": {
    "scrolled": true
   },
   "outputs": [
    {
     "name": "stdout",
     "output_type": "stream",
     "text": [
      "(1881, 4379)\n",
      "(209, 4379)\n",
      "(1881,)\n",
      "(209,)\n"
     ]
    }
   ],
   "source": [
    "from sklearn.feature_extraction.text import CountVectorizer\n",
    "from sklearn.model_selection import train_test_split\n",
    "import numpy as np\n",
    "\n",
    "cv = CountVectorizer()\n",
    "reviews = [review for review,_ in review_data]\n",
    "\n",
    "\n",
    "\n",
    "X = cv.fit_transform(reviews)\n",
    "y = np.array([label for _,label in review_data])\n",
    "\n",
    "X_train, X_test, y_train, y_test = train_test_split(X,y,test_size=0.1)\n",
    "\n",
    "print(X_train.shape)\n",
    "print(X_test.shape)\n",
    "print(y_train.shape)\n",
    "print(y_test.shape)"
   ]
  },
  {
   "cell_type": "code",
   "execution_count": 5,
   "id": "c8c895f4",
   "metadata": {},
   "outputs": [
    {
     "name": "stderr",
     "output_type": "stream",
     "text": [
      "2022-11-24 12:56:06.536918: I tensorflow/core/platform/cpu_feature_guard.cc:193] This TensorFlow binary is optimized with oneAPI Deep Neural Network Library (oneDNN) to use the following CPU instructions in performance-critical operations:  AVX2 FMA\n",
      "To enable them in other operations, rebuild TensorFlow with the appropriate compiler flags.\n",
      "2022-11-24 12:56:07.231502: W tensorflow/compiler/xla/stream_executor/platform/default/dso_loader.cc:64] Could not load dynamic library 'libnvinfer.so.7'; dlerror: libnvinfer.so.7: cannot open shared object file: No such file or directory\n",
      "2022-11-24 12:56:07.231557: W tensorflow/compiler/xla/stream_executor/platform/default/dso_loader.cc:64] Could not load dynamic library 'libnvinfer_plugin.so.7'; dlerror: libnvinfer_plugin.so.7: cannot open shared object file: No such file or directory\n",
      "2022-11-24 12:56:07.231564: W tensorflow/compiler/tf2tensorrt/utils/py_utils.cc:38] TF-TRT Warning: Cannot dlopen some TensorRT libraries. If you would like to use Nvidia GPU with TensorRT, please make sure the missing libraries mentioned above are installed properly.\n"
     ]
    }
   ],
   "source": [
    "import scipy\n",
    "import tensorflow as tf\n",
    "from keras.models import Sequential\n",
    "from keras import layers\n",
    "from keras import losses\n",
    "\n",
    "X_train = X_train.toarray()\n",
    "X_test = X_test.toarray()\n",
    "\n",
    "def setup_model(model_type=0):\n",
    "    model = None\n",
    "    \n",
    "    if model_type==0: \n",
    "        model = Sequential([\n",
    "            layers.Dense(16,activation='relu',input_dim=X_train.shape[1]),\n",
    "            layers.Dense(8,activation='relu'),\n",
    "            layers.Dense(1,activation='sigmoid')])\n",
    "        model.summary()\n",
    "        model.compile(loss='binary_crossentropy',\n",
    "                      optimizer='rmsprop',\n",
    "                      metrics=['accuracy'])\n",
    "        history = model.fit(\n",
    "            X_train,\n",
    "            y_train,\n",
    "            epochs=10,\n",
    "            batch_size=30)\n",
    "        \n",
    "    return model\n",
    "# model = tf.keras.Sequential([\n",
    "#   layers.Embedding(X_train.shape[1], 16),\n",
    "#   layers.Dropout(0.2),\n",
    "#   layers.GlobalAveragePooling1D(),\n",
    "#   layers.Dropout(0.2),\n",
    "#   layers.Dense(1,activation='sigmoid')])\n",
    "\n",
    "\n"
   ]
  },
  {
   "cell_type": "code",
   "execution_count": 6,
   "id": "c8b0cf22",
   "metadata": {},
   "outputs": [
    {
     "name": "stdout",
     "output_type": "stream",
     "text": [
      "Model: \"sequential\"\n",
      "_________________________________________________________________\n",
      " Layer (type)                Output Shape              Param #   \n",
      "=================================================================\n",
      " dense (Dense)               (None, 16)                70080     \n",
      "                                                                 \n",
      " dense_1 (Dense)             (None, 8)                 136       \n",
      "                                                                 \n",
      " dense_2 (Dense)             (None, 1)                 9         \n",
      "                                                                 \n",
      "=================================================================\n",
      "Total params: 70,225\n",
      "Trainable params: 70,225\n",
      "Non-trainable params: 0\n",
      "_________________________________________________________________\n",
      "Epoch 1/10\n"
     ]
    },
    {
     "name": "stderr",
     "output_type": "stream",
     "text": [
      "2022-11-24 12:56:07.984257: I tensorflow/compiler/xla/stream_executor/cuda/cuda_gpu_executor.cc:981] successful NUMA node read from SysFS had negative value (-1), but there must be at least one NUMA node, so returning NUMA node zero\n",
      "2022-11-24 12:56:08.033816: W tensorflow/compiler/xla/stream_executor/platform/default/dso_loader.cc:64] Could not load dynamic library 'libcudnn.so.8'; dlerror: libcudnn.so.8: cannot open shared object file: No such file or directory\n",
      "2022-11-24 12:56:08.033838: W tensorflow/core/common_runtime/gpu/gpu_device.cc:1934] Cannot dlopen some GPU libraries. Please make sure the missing libraries mentioned above are installed properly if you would like to use GPU. Follow the guide at https://www.tensorflow.org/install/gpu for how to download and setup the required libraries for your platform.\n",
      "Skipping registering GPU devices...\n",
      "2022-11-24 12:56:08.034342: I tensorflow/core/platform/cpu_feature_guard.cc:193] This TensorFlow binary is optimized with oneAPI Deep Neural Network Library (oneDNN) to use the following CPU instructions in performance-critical operations:  AVX2 FMA\n",
      "To enable them in other operations, rebuild TensorFlow with the appropriate compiler flags.\n"
     ]
    },
    {
     "name": "stdout",
     "output_type": "stream",
     "text": [
      "63/63 [==============================] - 1s 2ms/step - loss: 0.6546 - accuracy: 0.6396\n",
      "Epoch 2/10\n",
      "63/63 [==============================] - 0s 2ms/step - loss: 0.5765 - accuracy: 0.6396\n",
      "Epoch 3/10\n",
      "63/63 [==============================] - 0s 2ms/step - loss: 0.5022 - accuracy: 0.7060\n",
      "Epoch 4/10\n",
      "63/63 [==============================] - 0s 2ms/step - loss: 0.4289 - accuracy: 0.8336\n",
      "Epoch 5/10\n",
      "63/63 [==============================] - 0s 2ms/step - loss: 0.3591 - accuracy: 0.8921\n",
      "Epoch 6/10\n",
      "63/63 [==============================] - 0s 2ms/step - loss: 0.2960 - accuracy: 0.9213\n",
      "Epoch 7/10\n",
      "63/63 [==============================] - 0s 2ms/step - loss: 0.2378 - accuracy: 0.9351\n",
      "Epoch 8/10\n",
      "63/63 [==============================] - 0s 2ms/step - loss: 0.1882 - accuracy: 0.9495\n",
      "Epoch 9/10\n",
      "63/63 [==============================] - 0s 2ms/step - loss: 0.1495 - accuracy: 0.9580\n",
      "Epoch 10/10\n",
      "63/63 [==============================] - 0s 3ms/step - loss: 0.1176 - accuracy: 0.9665\n",
      "\n",
      "\n",
      "Results: \n",
      "\n",
      "7/7 [==============================] - 0s 1ms/step - loss: 0.6255 - accuracy: 0.7416\n"
     ]
    }
   ],
   "source": [
    "model = setup_model(model_type=0)\n",
    "print(\"\\n\\nResults: \\n\")\n",
    "test_loss, test_acc = model.evaluate(X_test,y_test)"
   ]
  },
  {
   "cell_type": "code",
   "execution_count": null,
   "id": "952ef2d4",
   "metadata": {},
   "outputs": [],
   "source": []
  }
 ],
 "metadata": {
  "kernelspec": {
   "display_name": "Python 3 (ipykernel)",
   "language": "python",
   "name": "python3"
  },
  "language_info": {
   "codemirror_mode": {
    "name": "ipython",
    "version": 3
   },
   "file_extension": ".py",
   "mimetype": "text/x-python",
   "name": "python",
   "nbconvert_exporter": "python",
   "pygments_lexer": "ipython3",
   "version": "3.9.13"
  }
 },
 "nbformat": 4,
 "nbformat_minor": 5
}
